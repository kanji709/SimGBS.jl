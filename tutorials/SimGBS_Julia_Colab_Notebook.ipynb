{
  "nbformat": 4,
  "nbformat_minor": 0,
  "metadata": {
    "colab": {
      "provenance": [],
      "toc_visible": true,
      "include_colab_link": true
    },
    "kernelspec": {
      "display_name": "Python 3",
      "name": "python3"
    },
    "language_info": {
      "name": "python"
    }
  },
  "cells": [
    {
      "cell_type": "markdown",
      "metadata": {
        "id": "view-in-github",
        "colab_type": "text"
      },
      "source": [
        "<a href=\"https://colab.research.google.com/github/kanji709/SimGBS.jl/blob/master/tutorials/SimGBS_Julia_Colab_Notebook.ipynb\" target=\"_parent\"><img src=\"https://colab.research.google.com/assets/colab-badge.svg\" alt=\"Open In Colab\"/></a>"
      ]
    },
    {
      "cell_type": "markdown",
      "metadata": {
        "id": "qxAz-9VnvRVa"
      },
      "source": [
        "# Introduction\n",
        "\n",
        "<b>SimGBS</b> is a rapid method for <b>simulating Genotyping-By-Sequencing data (GBS)</b>. It can be implemented with any genome of choice. Users can modify different parameters to customise GBS setting, such as the choice of restriction enzyme and sequencing depth. By taking the gene-drop approach, users can also specify the demographic history and define population structure (by supplying a pedigree file). Like real sequencers, SimGBS will output data into FASTQ format.\n",
        "\n",
        "This notebook follows a [general jupyter notebook template](https://colab.research.google.com/github/ageron/julia_notebooks/blob/master/Julia_Colab_Notebook_Template.ipynb), which has been modified to facilitate implementation of [SimGBS](https://github.com/kanji709/SimGBS.jl) in Julia. To perform proper simulation runs, we strongly recommend running SimGBS in julia directly."
      ]
    },
    {
      "cell_type": "markdown",
      "metadata": {
        "id": "tQ1r1bbb0yBv"
      },
      "source": [
        "# Setting up the Julia Environment\n",
        "\n",
        "## <img src=\"https://github.com/JuliaLang/julia-logo-graphics/raw/master/images/julia-logo-color.png\" height=\"100\" />\n",
        "\n",
        "1. **Make a copy of this notebook**  \n",
        "   Go to **File → Save a copy in Drive** (you’ll need a Google account).  \n",
        "   Alternatively, download this notebook and upload it to [Google Colab](https://colab.research.google.com/).\n",
        "\n",
        "2. **Ensure the runtime type is set to Python 3**  \n",
        "   Before installing Julia, go to **Runtime → Change runtime type**, and under **Kernel**, select **Python 3**.  \n",
        "   This is required because the Julia installation process runs from the Python environment.\n",
        "\n",
        "3. **Install Julia and required packages**  \n",
        "   Run the setup cell in the next section (click the cell and press **Ctrl + Enter**).  \n",
        "   This will install Julia and commonly used packages.  \n",
        "   The process takes a few minutes depending on your connection speed.\n",
        "\n",
        "4. **Switch to the Julia runtime**  \n",
        "   Once installation finishes, go again to **Runtime → Change runtime type**,  \n",
        "   and under **Kernel**, choose **Julia**, then click **Save**.  \n",
        "   The notebook will reload using the Julia kernel.\n",
        "\n",
        "---\n",
        "\n",
        "### Notes\n",
        "\n",
        "* You must begin in **Python 3** to perform the installation step, then switch to **Julia** afterwards.  \n",
        "* If your Colab runtime gets reset (for example, after a period of inactivity), repeat steps 2–4.  \n",
        "* To use a different Julia version, modify the `--channel` flag in the setup cell (for example, `--channel 1.11`).  \n",
        "* All installed packages and compiled binaries are **temporary** — they will be cleared when the runtime resets.  \n",
        "* To fully reset the environment, go to **Runtime → Factory reset runtime** and repeat the setup steps."
      ]
    },
    {
      "cell_type": "code",
      "metadata": {
        "id": "GIeFXS0F0zww"
      },
      "source": [
        "%%shell\n",
        "set -euo pipefail\n",
        "\n",
        "# --- Configure exactly what you want installed ---\n",
        "JULIA_VERSION=\"1.10.5\"         # pin a full version, not just \"1.10\"\n",
        "JULIA_PACKAGES=\"IJulia BenchmarkTools Plots\"\n",
        "JULIA_PACKAGES_IF_GPU=\"CUDA\"\n",
        "JULIA_NUM_THREADS=2\n",
        "# -------------------------------------------------\n",
        "\n",
        "want_minor=\"${JULIA_VERSION%.*}\"   # e.g. 1.10\n",
        "have=\"\"\n",
        "\n",
        "if command -v julia >/dev/null 2>&1; then\n",
        "  have=$(julia -e 'print(VERSION)')   # e.g. 1.11.2\n",
        "  echo \"Found existing Julia: $have at $(command -v julia)\"\n",
        "else\n",
        "  echo \"No Julia found on PATH.\"\n",
        "fi\n",
        "\n",
        "# Install/replace if missing or version mismatch\n",
        "if [ -z \"${have:-}\" ] || [ \"$have\" != \"$JULIA_VERSION\" ]; then\n",
        "  echo \"Installing Julia $JULIA_VERSION ...\"\n",
        "  BASE_URL=\"https://julialang-s3.julialang.org/bin/linux/x64\"\n",
        "  URL=\"$BASE_URL/$want_minor/julia-$JULIA_VERSION-linux-x86_64.tar.gz\"\n",
        "  wget -nv \"$URL\" -O /tmp/julia.tar.gz\n",
        "  tar -x -f /tmp/julia.tar.gz -C /usr/local --strip-components 1\n",
        "  rm /tmp/julia.tar.gz\n",
        "  echo \"Installed Julia at /usr/local/bin/julia -> $(/usr/local/bin/julia -e 'print(VERSION)')\"\n",
        "else\n",
        "  echo \"Desired Julia $JULIA_VERSION already present — skipping install.\"\n",
        "fi\n",
        "\n",
        "# Add GPU package only if a GPU is actually available\n",
        "if command -v nvidia-smi >/dev/null 2>&1; then\n",
        "  JULIA_PACKAGES=\"$JULIA_PACKAGES $JULIA_PACKAGES_IF_GPU\"\n",
        "fi\n",
        "\n",
        "# Install packages (now definitely using the desired Julia)\n",
        "for PKG in $JULIA_PACKAGES; do\n",
        "  echo \"Adding Julia package: $PKG\"\n",
        "  julia --color=yes -e 'using Pkg; Pkg.add(\"'\"$PKG\"'\"); Pkg.precompile()'\n",
        "done\n",
        "\n",
        "echo \"Installing IJulia kernel named 'julia'...\"\n",
        "julia --color=yes -e 'using IJulia; IJulia.installkernel(\"julia\", env=Dict(\"JULIA_NUM_THREADS\"=>\"'\"$JULIA_NUM_THREADS\"'\"))'\n",
        "KERNEL_DIR=$(julia -e \"using IJulia; print(IJulia.kerneldir())\")\n",
        "mv -f \"$KERNEL_DIR\"/julia* \"$KERNEL_DIR\"/julia || true\n",
        "\n",
        "echo \"Done. Now switch Colab to Runtime → Change runtime type → Kernel: Julia.\""
      ],
      "execution_count": null,
      "outputs": []
    },
    {
      "cell_type": "markdown",
      "metadata": {
        "id": "-OS3Ac017T1i"
      },
      "source": [
        "# Checking the Julia Installation\n",
        "The `versioninfo()` function should print your Julia version and some other info about the system:"
      ]
    },
    {
      "cell_type": "code",
      "metadata": {
        "id": "EEzvvzCl1i0F",
        "colab": {
          "base_uri": "https://localhost:8080/"
        },
        "outputId": "8738ca8c-b874-45a3-c173-df260b95ec2c"
      },
      "source": [
        "versioninfo()"
      ],
      "execution_count": null,
      "outputs": [
        {
          "output_type": "stream",
          "name": "stdout",
          "text": [
            "Julia Version 1.10.5\n",
            "Commit 6f3fdf7b362 (2024-08-27 14:19 UTC)\n",
            "Build Info:\n",
            "  Official https://julialang.org/ release\n",
            "Platform Info:\n",
            "  OS: Linux (x86_64-linux-gnu)\n",
            "  CPU: 2 × Intel(R) Xeon(R) CPU @ 2.20GHz\n",
            "  WORD_SIZE: 64\n",
            "  LIBM: libopenlibm\n",
            "  LLVM: libLLVM-15.0.7 (ORCJIT, broadwell)\n",
            "Threads: 2 default, 0 interactive, 1 GC (on 2 virtual cores)\n",
            "Environment:\n",
            "  LD_LIBRARY_PATH = /usr/local/nvidia/lib:/usr/local/nvidia/lib64\n",
            "  JULIA_NUM_THREADS = auto\n"
          ]
        }
      ]
    },
    {
      "cell_type": "code",
      "metadata": {
        "id": "yQlpeR9wNOi8",
        "colab": {
          "base_uri": "https://localhost:8080/"
        },
        "outputId": "108dddb2-9cf7-4937-e32b-a193df2ef14a"
      },
      "source": [
        "using BenchmarkTools\n",
        "\n",
        "M = rand(2048, 2048)\n",
        "@benchmark M^2"
      ],
      "execution_count": null,
      "outputs": [
        {
          "output_type": "execute_result",
          "data": {
            "text/plain": [
              "BenchmarkTools.Trial: 10 samples with 1 evaluation.\n",
              " Range \u001b[90m(\u001b[39m\u001b[36m\u001b[1mmin\u001b[22m\u001b[39m … \u001b[35mmax\u001b[39m\u001b[90m):  \u001b[39m\u001b[36m\u001b[1m489.435 ms\u001b[22m\u001b[39m … \u001b[35m612.820 ms\u001b[39m  \u001b[90m┊\u001b[39m GC \u001b[90m(\u001b[39mmin … max\u001b[90m): \u001b[39m0.00% … 16.76%\n",
              " Time  \u001b[90m(\u001b[39m\u001b[34m\u001b[1mmedian\u001b[22m\u001b[39m\u001b[90m):     \u001b[39m\u001b[34m\u001b[1m498.391 ms               \u001b[22m\u001b[39m\u001b[90m┊\u001b[39m GC \u001b[90m(\u001b[39mmedian\u001b[90m):    \u001b[39m0.00%\n",
              " Time  \u001b[90m(\u001b[39m\u001b[32m\u001b[1mmean\u001b[22m\u001b[39m ± \u001b[32mσ\u001b[39m\u001b[90m):   \u001b[39m\u001b[32m\u001b[1m509.861 ms\u001b[22m\u001b[39m ± \u001b[32m 37.242 ms\u001b[39m  \u001b[90m┊\u001b[39m GC \u001b[90m(\u001b[39mmean ± σ\u001b[90m):  \u001b[39m2.27% ±  5.24%\n",
              "\n",
              "  \u001b[39m█\u001b[34m \u001b[39m\u001b[39m \u001b[39m \u001b[39m \u001b[39m \u001b[39m \u001b[39m \u001b[39m \u001b[39m \u001b[32m \u001b[39m\u001b[39m \u001b[39m \u001b[39m \u001b[39m \u001b[39m \u001b[39m \u001b[39m \u001b[39m \u001b[39m \u001b[39m \u001b[39m \u001b[39m \u001b[39m \u001b[39m \u001b[39m \u001b[39m \u001b[39m \u001b[39m \u001b[39m \u001b[39m \u001b[39m \u001b[39m \u001b[39m \u001b[39m \u001b[39m \u001b[39m \u001b[39m \u001b[39m \u001b[39m \u001b[39m \u001b[39m \u001b[39m \u001b[39m \u001b[39m \u001b[39m \u001b[39m \u001b[39m \u001b[39m \u001b[39m \u001b[39m \u001b[39m \u001b[39m \u001b[39m \u001b[39m \u001b[39m \u001b[39m \u001b[39m \u001b[39m \u001b[39m \u001b[39m \u001b[39m \u001b[39m \n",
              "  \u001b[39m█\u001b[34m▆\u001b[39m\u001b[39m▁\u001b[39m▁\u001b[39m▁\u001b[39m▁\u001b[39m▁\u001b[39m▆\u001b[39m▆\u001b[39m▆\u001b[32m▁\u001b[39m\u001b[39m▆\u001b[39m▁\u001b[39m▁\u001b[39m▁\u001b[39m▁\u001b[39m▁\u001b[39m▁\u001b[39m▁\u001b[39m▁\u001b[39m▁\u001b[39m▁\u001b[39m▁\u001b[39m▁\u001b[39m▁\u001b[39m▁\u001b[39m▁\u001b[39m▁\u001b[39m▁\u001b[39m▁\u001b[39m▁\u001b[39m▁\u001b[39m▁\u001b[39m▁\u001b[39m▁\u001b[39m▁\u001b[39m▁\u001b[39m▁\u001b[39m▁\u001b[39m▁\u001b[39m▁\u001b[39m▁\u001b[39m▁\u001b[39m▁\u001b[39m▁\u001b[39m▁\u001b[39m▁\u001b[39m▁\u001b[39m▁\u001b[39m▁\u001b[39m▁\u001b[39m▁\u001b[39m▁\u001b[39m▁\u001b[39m▁\u001b[39m▁\u001b[39m▁\u001b[39m▁\u001b[39m▁\u001b[39m▁\u001b[39m▆\u001b[39m \u001b[39m▁\n",
              "  489 ms\u001b[90m           Histogram: frequency by time\u001b[39m          613 ms \u001b[0m\u001b[1m<\u001b[22m\n",
              "\n",
              " Memory estimate\u001b[90m: \u001b[39m\u001b[33m32.00 MiB\u001b[39m, allocs estimate\u001b[90m: \u001b[39m\u001b[33m2\u001b[39m."
            ]
          },
          "metadata": {},
          "execution_count": 3
        }
      ]
    },
    {
      "cell_type": "code",
      "metadata": {
        "id": "XciCcMAJOT3_",
        "colab": {
          "base_uri": "https://localhost:8080/"
        },
        "outputId": "9f141a61-b51c-455d-9198-123a8de5e199"
      },
      "source": [
        "if ENV[\"COLAB_GPU\"] == \"1\"\n",
        "    using CUDA\n",
        "\n",
        "    M_gpu = cu(M)\n",
        "    @benchmark CUDA.@sync M_gpu^2\n",
        "else\n",
        "    println(\"No GPU found.\")\n",
        "end"
      ],
      "execution_count": null,
      "outputs": [
        {
          "output_type": "stream",
          "name": "stdout",
          "text": [
            "No GPU found.\n"
          ]
        }
      ]
    },
    {
      "cell_type": "markdown",
      "metadata": {
        "id": "8WEYxeaheOuE"
      },
      "source": [
        "# Install SimGBS"
      ]
    },
    {
      "cell_type": "code",
      "metadata": {
        "id": "SQjQso-hUswn",
        "colab": {
          "base_uri": "https://localhost:8080/"
        },
        "outputId": "9a90b0a9-27d0-4f6e-fa7f-f1f476caf478"
      },
      "source": [
        " import Pkg;Pkg.add(\"SimGBS\")"
      ],
      "execution_count": null,
      "outputs": [
        {
          "output_type": "stream",
          "name": "stderr",
          "text": [
            "\u001b[32m\u001b[1m   Resolving\u001b[22m\u001b[39m package versions...\n",
            "\u001b[32m\u001b[1m  No Changes\u001b[22m\u001b[39m to `~/.julia/environments/v1.10/Project.toml`\n",
            "\u001b[32m\u001b[1m  No Changes\u001b[22m\u001b[39m to `~/.julia/environments/v1.10/Manifest.toml`\n",
            "\u001b[32m\u001b[1mPrecompiling\u001b[22m\u001b[39m project...\n",
            "\u001b[32m  ✓ \u001b[39m\u001b[90mConda\u001b[39m\n",
            "  1 dependency successfully precompiled in 3 seconds. 198 already precompiled.\n"
          ]
        }
      ]
    },
    {
      "cell_type": "code",
      "metadata": {
        "id": "8GtWdbeJjWwf"
      },
      "source": [
        "cd(\"/content\")"
      ],
      "execution_count": null,
      "outputs": []
    },
    {
      "cell_type": "markdown",
      "metadata": {
        "id": "mf3XeOc68K_e"
      },
      "source": [
        "# Import SimGBS"
      ]
    },
    {
      "cell_type": "code",
      "metadata": {
        "id": "juev2dBvCfIO"
      },
      "source": [
        "using SimGBS"
      ],
      "execution_count": null,
      "outputs": []
    },
    {
      "cell_type": "markdown",
      "metadata": {
        "id": "lCNY-beLAc8v"
      },
      "source": [
        "# Download Example Data"
      ]
    },
    {
      "cell_type": "code",
      "metadata": {
        "id": "xuRxZxc58m6x",
        "colab": {
          "base_uri": "https://localhost:8080/"
        },
        "outputId": "1c1ef933-e236-4537-b1cc-520714a2da72"
      },
      "source": [
        "download(\"https://github.com/kanji709/SimGBS.jl/raw/master/example/ref.fa.gz\",\"ref.fa.gz\")\n",
        "download(\"https://github.com/kanji709/SimGBS.jl/raw/master/example/GBS_Barcodes.txt\",\"GBS_Barcodes.txt\")\n",
        "readdir()"
      ],
      "execution_count": null,
      "outputs": [
        {
          "output_type": "execute_result",
          "data": {
            "text/plain": [
              "23-element Vector{String}:\n",
              " \".config\"\n",
              " \"ABC12AAXX_1_fastq.txt.gz\"\n",
              " \"GBSCoverage.png\"\n",
              " \"GBSCoverage.txt\"\n",
              " \"GBSFrag.txt\"\n",
              " \"GBSFragSize.png\"\n",
              " \"GBS_Barcodes.txt\"\n",
              " \"RawFrag.txt\"\n",
              " \"RawFragSize.png\"\n",
              " \"keyFile_ABC12AAXX_1.txt\"\n",
              " \"qtlAF.png\"\n",
              " \"qtlGeno.txt\"\n",
              " \"qtlInfo.txt\"\n",
              " \"readDepth.txt\"\n",
              " \"ref.fa.gz\"\n",
              " \"sample_data\"\n",
              " \"shortHap.txt\"\n",
              " \"snpAF.png\"\n",
              " \"snpDepth.txt\"\n",
              " \"snpFragGBS.txt\"\n",
              " \"snpGeno.txt\"\n",
              " \"snpInfo.txt\"\n",
              " \"snpPerTag.png\""
            ]
          },
          "metadata": {},
          "execution_count": 8
        }
      ]
    },
    {
      "cell_type": "markdown",
      "metadata": {
        "id": "LIpRedhNyvIy"
      },
      "source": [
        "# Run SimGBS Example"
      ]
    },
    {
      "cell_type": "markdown",
      "metadata": {
        "id": "7OHSrJ8Nyjhy"
      },
      "source": [
        "The code below can be found in [example.jl](https://github.com/kanji709/SimGBS.jl/tree/master/example)"
      ]
    },
    {
      "cell_type": "code",
      "metadata": {
        "colab": {
          "base_uri": "https://localhost:8080/"
        },
        "id": "3xKWqNLKyg-G",
        "outputId": "3113e117-4653-44d1-9998-2fb6d914357d"
      },
      "source": [
        "## parameters\n",
        "### Step One: Generate GBS Fragments\n",
        "genofile = \"ref.fa.gz\"\n",
        "re = [SimGBS.ApeKI]; # specify the restriction enzyme to be used for virtual digestion\n",
        "useChr = [1]; # specify either the number of chromosome(s) or a set of chromosome(s) to be used for simulating GBS data\n",
        "useChrLen = Array{Float64}(undef, 0); # specify the length of chromsome(s) in cM to be simulated, otherwise using the entire chromosome\n",
        "lower = 65; # lower bound of fragment size selection\n",
        "upper = 195; # upper bound of fragment size selection\n",
        "winSize = 1000000 # window size to be used to sample SNP density\n",
        "\n",
        "### Step Two: Define Population Structure\n",
        "numFounders = 100; # number of founders in the base population\n",
        "endSize = 1000; # number of individuals to end up in the changingPopSize step\n",
        "numGenCha = 20; # number of generations for changingPopSize function\n",
        "numGenCon = 50; # number of generations for constantPopSize function\n",
        "numGenFinal = 4; # number of final generations to be used to select individual\n",
        "numInd = 96; # number of individuals to be simulated\n",
        "useWeights = Array{Float64}(undef, 0) # weights of each of contributing genetarion in the fianal population composition\n",
        "usePedigree = false;  # false if you don't use pedigree, otherwise specify the pedigree file to be used\n",
        "pedFile = \"newPed.ped\"; # file stores the pedigree (default = \"sim.ped\")\n",
        "pedOutput = false; # true if print out pedigree (default = false)\n",
        "\n",
        "### Step Three: Simulate GBS Process\n",
        "totalQTL = 100 # total (across all chromosomes) number of QTLs to be simulated\n",
        "totalSNP = 0 # total (across all chromosomes) number of QTLs to be simulated, set [totalSNP = 0] if sampling based on density\n",
        "muDensity = -2.0 # location parameter of log-Laplace distribution (for sampling SNP density)\n",
        "sigmasqDensity = 0.001 # scale parameter of log-Laplace distribution (for sampling SNP density)\n",
        "winSize = 1000000 # window size to be used to sample SNP density\n",
        "muAlleleFreq = 0.5 # mean of sampled allele frequency\n",
        "sigmasqAlleleFreq = 0.0061 # variance of sampled allele frequency\n",
        "meanDepth = 20.0 # expected sequencing depth\n",
        "barcodeFile = \"GBS_Barcodes.txt\" # file contains GBS barcodes\n",
        "useChr = [1]; # specify either the number of chromosome(s) or a set of chromosome(s) to be used for simulating GBS data\n",
        "\n",
        "### miscellaneous\n",
        "plotOutput = true; # true if plots are required\n",
        "writeOutput = true; # true if outputs in text file are required\n",
        "onlyOutputGBS = true; # true if only GBS data is required\n",
        "\n",
        "## Run SimGBS\n",
        "### Step One: Generate GBS Fragments\n",
        "@time digestGenome(\n",
        "    genofile,\n",
        "    re,\n",
        "    useChr,\n",
        "    useChrLen,\n",
        "    lower,\n",
        "    upper,\n",
        "    winSize,\n",
        "    plotOutput,\n",
        "    writeOutput,\n",
        ");\n",
        "\n",
        "### Step Two: Define Population Structure\n",
        "@time definePopulation(\n",
        "    numFounders,\n",
        "    endSize,\n",
        "    numGenCha,\n",
        "    numGenCon,\n",
        "    numGenFinal,\n",
        "    numInd,\n",
        "    useWeights,\n",
        "    usePedigree,\n",
        "    pedFile,\n",
        "    pedOutput,\n",
        ");\n",
        "\n",
        "### Step Three: Simulate GBS Process\n",
        "@time GBS(\n",
        "    totalQTL,\n",
        "    totalSNP,\n",
        "    muDensity,\n",
        "    sigmasqDensity,\n",
        "    winSize,\n",
        "    muAlleleFreq,\n",
        "    sigmasqAlleleFreq,\n",
        "    re,\n",
        "    meanDepth,\n",
        "    barcodeFile,\n",
        "    useChr,\n",
        "    plotOutput,\n",
        "    writeOutput,\n",
        "    onlyOutputGBS,\n",
        ");\n"
      ],
      "execution_count": null,
      "outputs": [
        {
          "output_type": "stream",
          "name": "stdout",
          "text": [
            "INFO: Using chromsome [1] in the simulation!\n",
            "CHROMOSOME 1: 1800 GBS fragments are generated through virtual digestion using ApeKI.\n",
            "CHROMOSOME 1: Estimated chromosome length equals to 0.999602 Mb.\n",
            "CHROMOSOME 1: Subsetting chromosome is not required. Keeping all 1800 available GBS fragments.\n",
            "INFO: 354 out of 1800 GBS fragments are selected after size-selection with lower and upper thresholds equals to [65, 195].\n",
            "INFO: Expected sequencing coverage based on 354 selected GBS fragments is approximately 4.56%.\n",
            "  6.042899 seconds (7.14 M allocations: 512.183 MiB, 2.74% gc time, 96.93% compilation time: 15% of which was recompilation)\n",
            "CHANGING POP SIZE GEN 10: Done!\n",
            "CHANGING POP SIZE GEN 20: Done!\n",
            "CONSTANT POP SIZE GEN 10: Done\n",
            "CONSTANT POP SIZE GEN 20: Done\n",
            "CONSTANT POP SIZE GEN 30: Done\n",
            "CONSTANT POP SIZE GEN 40: Done\n",
            "INFO: Collecting 22 individual at Gen 47\n",
            "INFO: Collecting 32 individual at Gen 48\n",
            "INFO: Collecting 20 individual at Gen 49\n",
            "INFO: Collecting 22 individual at Gen 50\n",
            "  5.162813 seconds (6.87 M allocations: 362.448 MiB, 2.01% gc time, 85.82% compilation time)\n",
            "INFO: A total of 100 QTLs are sampled randomly across 1 chromosome(s).\n",
            "CHROMOSOME 1: 189432 SNPs sampled with average SNP density = 0.135 (window size = 1000000 bp).\n",
            "CHROMOSOME 1: Found 8403 SNPs on 354 GBS fragments, with an average of 23.74 SNPs per GBS fragment.\n",
            "[INFO]: a total of 189432 SNPs were sampled.\n",
            "[INFO]: 8403 SNPs captured by selected GBS SNPs.\n",
            "CHROMOSOME 1: Filling haplotypes!\n",
            "CHROMOSOME 1: DONE!\n",
            "  3.064808 seconds (18.27 M allocations: 718.994 MiB, 5.26% gc time, 22.78% compilation time)\n",
            "[INFO] On Lane 1 of Flowcell ABC12AAXX: Average GBS read depth equals to 18.58.\n",
            "[INFO] On Lane 1 of Flowcell ABC12AAXX: Generating GBS data for 96 samples.\n",
            "INFO: A total of 631586 GBS reads generated.\n",
            " 31.856087 seconds (66.80 M allocations: 4.027 GiB, 4.33% gc time, 66.25% compilation time)\n"
          ]
        }
      ]
    },
    {
      "cell_type": "markdown",
      "metadata": {
        "id": "QbHhApuJzyzJ"
      },
      "source": [
        "# Outputs\n",
        "\n",
        "<b>GBS Fragments</b>\n",
        "\n",
        "- RawFrag.txt: raw GBS fragments following in slico digestion\n",
        "- GBSFrag.txt: selected GBS fragments after fragment size-selection\n",
        "- GBSCoverage.txt: genomic coverage of GBS fragments\n",
        "- snpFragGBS.txt: GBS fragments that contains SNPs\n",
        "\n",
        "<b>Variants</b>\n",
        "\n",
        "- qtlGeno.txt: QTL genotype (number of individual x number of QTL loci)\n",
        "- snpGeno.txt: SNP genotypes (number of individual x number of QTL loci)\n",
        "- qtlInfo.txt: information about QTL, including chromosome, position and allele frequency\n",
        "- snpInfo.txt: information about SNPs, including chromosome, position and allele frequency\n",
        "- shortHap.txt: short-haplotype created by GBS fragments (i.e., SNPs captured within each GBS fragment)\n",
        "- readDepth.txt: number of copies per GBS fragment\n",
        "\n",
        "<b>GBS Data</b>\n",
        "\n",
        "- keyFileABC12AAXX1.txt: pseudo-information about GBS sample, including flowcell, lane, barcode, sample name, plate, row and column\n",
        "- ABC12AAXX1fastq.txt.gz: simulated GBS sequences"
      ]
    },
    {
      "cell_type": "code",
      "metadata": {
        "colab": {
          "base_uri": "https://localhost:8080/"
        },
        "id": "Biq8y1O9z1_M",
        "outputId": "49dea133-4725-4cb4-c76c-1a0afe5a5bdb"
      },
      "source": [
        "readdir() # see outputs"
      ],
      "execution_count": null,
      "outputs": [
        {
          "output_type": "execute_result",
          "data": {
            "text/plain": [
              "23-element Vector{String}:\n",
              " \".config\"\n",
              " \"ABC12AAXX_1_fastq.txt.gz\"\n",
              " \"GBSCoverage.png\"\n",
              " \"GBSCoverage.txt\"\n",
              " \"GBSFrag.txt\"\n",
              " \"GBSFragSize.png\"\n",
              " \"GBS_Barcodes.txt\"\n",
              " \"RawFrag.txt\"\n",
              " \"RawFragSize.png\"\n",
              " \"keyFile_ABC12AAXX_1.txt\"\n",
              " \"qtlAF.png\"\n",
              " \"qtlGeno.txt\"\n",
              " \"qtlInfo.txt\"\n",
              " \"readDepth.txt\"\n",
              " \"ref.fa.gz\"\n",
              " \"sample_data\"\n",
              " \"shortHap.txt\"\n",
              " \"snpAF.png\"\n",
              " \"snpDepth.txt\"\n",
              " \"snpFragGBS.txt\"\n",
              " \"snpGeno.txt\"\n",
              " \"snpInfo.txt\"\n",
              " \"snpPerTag.png\""
            ]
          },
          "metadata": {},
          "execution_count": 10
        }
      ]
    },
    {
      "cell_type": "markdown",
      "metadata": {
        "id": "RysQhxoG0Rph"
      },
      "source": [
        "# Available Functions"
      ]
    },
    {
      "cell_type": "markdown",
      "metadata": {
        "id": "35qmTm068k-d"
      },
      "source": [
        "## Define Genome"
      ]
    },
    {
      "cell_type": "code",
      "metadata": {
        "colab": {
          "base_uri": "https://localhost:8080/"
        },
        "id": "LpqazpM78xrn",
        "outputId": "f479aa99-df42-4c1b-dddc-6a8365a572b8"
      },
      "source": [
        "digestGenome(\"ref.fa.gz\", [SimGBS.ApeKI], [1], Array{Float64}(undef,0), 65 ,195, 1000000, false, true)"
      ],
      "execution_count": null,
      "outputs": [
        {
          "output_type": "stream",
          "name": "stdout",
          "text": [
            "INFO: Using chromsome [1] in the simulation!\n",
            "CHROMOSOME 1: 1800 GBS fragments are generated through virtual digestion using ApeKI.\n",
            "CHROMOSOME 1: Estimated chromosome length equals to 0.999602 Mb.\n",
            "CHROMOSOME 1: Subsetting chromosome is not required. Keeping all 1800 available GBS fragments.\n",
            "INFO: 354 out of 1800 GBS fragments are selected after size-selection with lower and upper thresholds equals to [65, 195].\n",
            "INFO: Expected sequencing coverage based on 354 selected GBS fragments is approximately 4.56%.\n"
          ]
        }
      ]
    },
    {
      "cell_type": "markdown",
      "metadata": {
        "id": "WQ03pNJrBTL1"
      },
      "source": [
        "## Define Population"
      ]
    },
    {
      "cell_type": "code",
      "metadata": {
        "colab": {
          "base_uri": "https://localhost:8080/"
        },
        "id": "tzPfHcGPKnvo",
        "outputId": "8b8241e4-b94b-4e5b-8e35-eb0bc04db72a"
      },
      "source": [
        " definePopulation(100, 500, 20, 100, 4, 96,  Array{Float64}(undef,0), false, \"sim.ped\", false);"
      ],
      "execution_count": null,
      "outputs": [
        {
          "output_type": "stream",
          "name": "stdout",
          "text": [
            "CHANGING POP SIZE GEN 10: Done!\n",
            "CHANGING POP SIZE GEN 20: Done!\n",
            "CONSTANT POP SIZE GEN 10: Done\n",
            "CONSTANT POP SIZE GEN 20: Done\n",
            "CONSTANT POP SIZE GEN 30: Done\n",
            "CONSTANT POP SIZE GEN 40: Done\n",
            "CONSTANT POP SIZE GEN 50: Done\n",
            "CONSTANT POP SIZE GEN 60: Done\n",
            "CONSTANT POP SIZE GEN 70: Done\n",
            "CONSTANT POP SIZE GEN 80: Done\n",
            "CONSTANT POP SIZE GEN 90: Done\n",
            "INFO: Collecting 23 individual at Gen 97\n",
            "INFO: Collecting 26 individual at Gen 98\n",
            "INFO: Collecting 27 individual at Gen 99\n",
            "INFO: Collecting 20 individual at Gen 100\n"
          ]
        }
      ]
    },
    {
      "cell_type": "markdown",
      "metadata": {
        "id": "ogbns76oL38M"
      },
      "source": [
        "## GBS"
      ]
    },
    {
      "cell_type": "code",
      "metadata": {
        "colab": {
          "base_uri": "https://localhost:8080/"
        },
        "id": "sNI-efDaL-ht",
        "outputId": "990caf27-5c7f-483d-942b-0e638fbb1807"
      },
      "source": [
        "GBS(100, 0, -2.0, 0.001, 1000000, 0.5, 0.001, [SimGBS.ApeKI], 20.0, \"GBS_Barcodes.txt\", [1], false, true, true)"
      ],
      "execution_count": null,
      "outputs": [
        {
          "output_type": "stream",
          "name": "stdout",
          "text": [
            "INFO: A total of 100 QTLs are sampled randomly across 1 chromosome(s).\n",
            "CHROMOSOME 1: 189444 SNPs sampled with average SNP density = 0.135 (window size = 1000000 bp).\n",
            "CHROMOSOME 1: Found 8487 SNPs on 354 GBS fragments, with an average of 23.97 SNPs per GBS fragment.\n",
            "[INFO]: a total of 189444 SNPs were sampled.\n",
            "[INFO]: 8487 SNPs captured by selected GBS SNPs.\n",
            "CHROMOSOME 1: Filling haplotypes!\n",
            "CHROMOSOME 1: DONE!\n",
            "  3.964159 seconds (18.02 M allocations: 697.304 MiB, 2.51% gc time)\n",
            "[INFO] On Lane 1 of Flowcell ABC12AAXX: Average GBS read depth equals to 20.42.\n",
            "[INFO] On Lane 1 of Flowcell ABC12AAXX: Generating GBS data for 96 samples.\n",
            "INFO: A total of 693823 GBS reads generated.\n"
          ]
        }
      ]
    },
    {
      "cell_type": "markdown",
      "metadata": {
        "id": "8O5o9VVy0kRc"
      },
      "source": [
        "# Overview\n",
        "\n",
        "For more information, please visit the [documentation](https://kanji709.github.io/SimGBS.jl/dev/) page.\n",
        "\n"
      ]
    },
    {
      "cell_type": "markdown",
      "metadata": {
        "id": "2c0tK96S0yVy"
      },
      "source": [
        "# Citing\n",
        "\n",
        "Please cite the following if you use SimGBS.jl,\n",
        "\n",
        "- Hess, A. S., M. K. Hess, K. G. Dodds, J. C. Mcewan, S. M. Clarke, and S. J. Rowe. \"A method to simulate low-depth genotyping-by-sequencing data for testing genomic analyses.\" Proc 11th World Congr Genet Appl to Livest Prod 385 (2018).\n",
        "\n",
        "\n"
      ]
    },
    {
      "cell_type": "markdown",
      "metadata": {
        "id": "R9OJ4jUi04vg"
      },
      "source": [
        "# What's Next?\n",
        "\n",
        "The following tools are recommended for downstream Analyses of GBS data,\n",
        "\n",
        "[snpGBS](https://github.com/AgResearch/snpGBS): a simple bioinformatics workflow to identify single nucleotide polymorphism (SNP) from Genotyping-by-Sequencing (GBS) data.\n",
        "\n",
        "[KGD](https://github.com/AgResearch/KGD): R code for the analysis of genotyping-by-sequencing (GBS) data, primarily to construct a genomic relationship matrix for the genotyped individuals.\n",
        "\n",
        "[GUSLD](https://github.com/AgResearch/GUS-LD): An R package for estimating linkage disequilibrium using low and/or high coverage sequencing data without requiring filtering with respect to read depth.\n",
        "\n",
        "[SMAP](https://gitlab.com/truttink/smap) a software package that analyzes read mapping distributions and performs haplotype calling to create multi-allelic molecular markers."
      ]
    }
  ]
}